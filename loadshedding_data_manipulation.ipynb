{
 "cells": [
  {
   "cell_type": "code",
   "execution_count": 1,
   "metadata": {},
   "outputs": [],
   "source": [
    "\n",
    "import pandas as pd\n",
    "import matplotlib.pyplot as plt\n",
    "import seaborn as sns\n",
    "import pingouin as pg\n",
    "import statsmodels.api as sm\n",
    "\n",
    "import numpy as np"
   ]
  },
  {
   "cell_type": "code",
   "execution_count": 13,
   "metadata": {},
   "outputs": [
    {
     "name": "stderr",
     "output_type": "stream",
     "text": [
      "/tmp/ipykernel_5226/2923405356.py:9: SettingWithCopyWarning: \n",
      "A value is trying to be set on a copy of a slice from a DataFrame.\n",
      "Try using .loc[row_indexer,col_indexer] = value instead\n",
      "\n",
      "See the caveats in the documentation: https://pandas.pydata.org/pandas-docs/stable/user_guide/indexing.html#returning-a-view-versus-a-copy\n",
      "  filtered_df['created_at'] = filtered_df['created_at'].dt.round('H')\n"
     ]
    }
   ],
   "source": [
    "df = pd.read_csv('./Data/EskomSePush Loadshedding History - EskomSePush_history.csv')\n",
    "df = pd.DataFrame(df)\n",
    "\n",
    "df['created_at'] = pd.to_datetime(df['created_at'])\n",
    "\n",
    "# Filter the DataFrame to keep only entries after April 1, 2019\n",
    "filtered_df = df[df['created_at'] >= '2019-04-01']\n",
    "\n",
    "filtered_df['created_at'] = filtered_df['created_at'].dt.round('H')\n"
   ]
  },
  {
   "cell_type": "code",
   "execution_count": 15,
   "metadata": {},
   "outputs": [],
   "source": [
    "\n",
    "filtered_df\n",
    "csv_file_path = 'Loadshedding_stage_data.csv'\n",
    "\n",
    "# Export the DataFrame to a CSV file\n",
    "filtered_df.to_csv(csv_file_path, index=False)  # Set index=False to exclude the index column\n",
    "##thanks to Eskom se push for the data"
   ]
  }
 ],
 "metadata": {
  "kernelspec": {
   "display_name": "loadshedding_env",
   "language": "python",
   "name": "python3"
  },
  "language_info": {
   "codemirror_mode": {
    "name": "ipython",
    "version": 3
   },
   "file_extension": ".py",
   "mimetype": "text/x-python",
   "name": "python",
   "nbconvert_exporter": "python",
   "pygments_lexer": "ipython3",
   "version": "3.11.5"
  },
  "orig_nbformat": 4
 },
 "nbformat": 4,
 "nbformat_minor": 2
}
