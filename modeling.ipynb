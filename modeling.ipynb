{
 "cells": [
  {
   "cell_type": "code",
   "execution_count": 1,
   "metadata": {},
   "outputs": [
    {
     "name": "stderr",
     "output_type": "stream",
     "text": [
      "2023-10-25 13:53:34.755955: I tensorflow/core/util/port.cc:111] oneDNN custom operations are on. You may see slightly different numerical results due to floating-point round-off errors from different computation orders. To turn them off, set the environment variable `TF_ENABLE_ONEDNN_OPTS=0`.\n",
      "2023-10-25 13:53:34.803264: I tensorflow/tsl/cuda/cudart_stub.cc:28] Could not find cuda drivers on your machine, GPU will not be used.\n",
      "2023-10-25 13:53:35.036305: E tensorflow/compiler/xla/stream_executor/cuda/cuda_dnn.cc:9342] Unable to register cuDNN factory: Attempting to register factory for plugin cuDNN when one has already been registered\n",
      "2023-10-25 13:53:35.036357: E tensorflow/compiler/xla/stream_executor/cuda/cuda_fft.cc:609] Unable to register cuFFT factory: Attempting to register factory for plugin cuFFT when one has already been registered\n",
      "2023-10-25 13:53:35.037851: E tensorflow/compiler/xla/stream_executor/cuda/cuda_blas.cc:1518] Unable to register cuBLAS factory: Attempting to register factory for plugin cuBLAS when one has already been registered\n",
      "2023-10-25 13:53:35.158280: I tensorflow/tsl/cuda/cudart_stub.cc:28] Could not find cuda drivers on your machine, GPU will not be used.\n",
      "2023-10-25 13:53:35.159950: I tensorflow/core/platform/cpu_feature_guard.cc:182] This TensorFlow binary is optimized to use available CPU instructions in performance-critical operations.\n",
      "To enable the following instructions: AVX2 AVX512F AVX512_VNNI FMA, in other operations, rebuild TensorFlow with the appropriate compiler flags.\n",
      "2023-10-25 13:53:36.424175: W tensorflow/compiler/tf2tensorrt/utils/py_utils.cc:38] TF-TRT Warning: Could not find TensorRT\n"
     ]
    }
   ],
   "source": [
    "import tensorflow as tf\n",
    "import numpy as np\n",
    "import pandas as pd\n",
    "from sklearn.preprocessing import StandardScaler\n",
    "\n",
    "import matplotlib.pyplot as plt\n",
    "\n",
    "from tensorflow import keras\n",
    "\n",
    "from keras import layers\n",
    "from keras import losses\n",
    "\n",
    "from keras.layers import LSTM, Dense\n",
    "from sklearn.model_selection import train_test_split\n",
    "from keras.preprocessing.sequence import TimeseriesGenerator"
   ]
  },
  {
   "cell_type": "code",
   "execution_count": 2,
   "metadata": {},
   "outputs": [
    {
     "name": "stderr",
     "output_type": "stream",
     "text": [
      "/tmp/ipykernel_6882/918728505.py:3: UserWarning: Could not infer format, so each element will be parsed individually, falling back to `dateutil`. To ensure parsing is consistent and as-expected, please specify a format.\n",
      "  data['Time'] = pd.to_datetime(data['DateTime'])\n"
     ]
    }
   ],
   "source": [
    "\n",
    "\n",
    "\n",
    "data = pd.read_csv('./Data/Final_eskom_vector_grid_health.csv')\n",
    "data = pd.DataFrame(data)\n",
    "data['Time'] = pd.to_datetime(data['DateTime'])\n",
    "data.set_index('Time', inplace=True)\n",
    "\n",
    "\n"
   ]
  },
  {
   "cell_type": "code",
   "execution_count": 22,
   "metadata": {},
   "outputs": [
    {
     "data": {
      "text/plain": [
       "(26918, 15)"
      ]
     },
     "execution_count": 22,
     "metadata": {},
     "output_type": "execute_result"
    }
   ],
   "source": [
    "\n",
    "# split_date = '2022-03-01'\n",
    "# train = data[data.index < split_date]\n",
    "# test = data[data.index >= split_date]\n",
    "\n",
    "\n"
   ]
  },
  {
   "cell_type": "markdown",
   "metadata": {},
   "source": [
    "### Train test split"
   ]
  },
  {
   "cell_type": "code",
   "execution_count": 3,
   "metadata": {},
   "outputs": [
    {
     "name": "stdout",
     "output_type": "stream",
     "text": [
      "Training set (X_train, Y_train) shapes: (27254, 15) (27254, 4)\n",
      "Validation set (X_val, Y_val) shapes: (3029, 15) (3029, 4)\n",
      "Test set (X_test, Y_test) shapes: (3365, 15) (3365, 4)\n"
     ]
    }
   ],
   "source": [
    "\n",
    "\n",
    "\n",
    "Y_columns = [\n",
    "    'ILS Usage',\n",
    "    'MLR', 'IOS Excl ILS and MLR',\n",
    "     'Total UCLF+OCLF'\n",
    "]\n",
    "Y = data[Y_columns].values\n",
    "X = data.drop(columns=Y_columns, axis=1)\n",
    "X.drop(['DateTime'], axis =1, inplace = True)\n",
    "X = X.values\n",
    "\n",
    "X_train_temp, X_test, Y_train_temp, Y_test = train_test_split(X, Y, test_size=0.10, shuffle=False, random_state=42)\n",
    "\n",
    "# Then, split the temporary test set into validation (50%) and final test (50%)\n",
    "X_train, X_val, Y_train, Y_val = train_test_split(X_train_temp, Y_train_temp, test_size=0.10, shuffle=False, random_state=42)\n",
    "\n",
    "# Print the shapes of the resulting sets\n",
    "print(\"Training set (X_train, Y_train) shapes:\", X_train.shape, Y_train.shape)\n",
    "print(\"Validation set (X_val, Y_val) shapes:\", X_val.shape, Y_val.shape)\n",
    "print(\"Test set (X_test, Y_test) shapes:\", X_test.shape, Y_test.shape)"
   ]
  },
  {
   "cell_type": "code",
   "execution_count": 4,
   "metadata": {},
   "outputs": [],
   "source": [
    "# Y_columns = [\n",
    "#     'ILS Usage',\n",
    "#     'MLR', 'IOS Excl ILS and MLR',\n",
    "#      'Total UCLF+OCLF'\n",
    "# ]\n",
    "# Y_train = train[Y_columns].values\n",
    "# X_train = train.drop(columns=Y_columns, axis=1)\n",
    "# X_train.drop(['DateTime'], axis =1, inplace = True)\n",
    "# X_train = X_train.values\n",
    "\n",
    "# Y_test = test[Y_columns].values\n",
    "# X_test = test.drop(columns=Y_columns, axis=1)\n",
    "# X_test.drop(['DateTime'], axis =1, inplace = True)\n",
    "# X_test = X_test.values"
   ]
  },
  {
   "cell_type": "markdown",
   "metadata": {},
   "source": [
    "### Standardising the input values"
   ]
  },
  {
   "cell_type": "code",
   "execution_count": 4,
   "metadata": {},
   "outputs": [],
   "source": [
    "scaler = StandardScaler()\n",
    "X_train_normalised = scaler.fit_transform(X_train)\n",
    "X_test_normalised = scaler.transform(X_test)\n",
    "X_val_norm = scaler.transform(X_val)\n",
    "\n",
    "Y_train_normalised = scaler.fit_transform(Y_train)\n",
    "Y_test_normalised = scaler.transform(Y_test)\n",
    "Y_val_norm = scaler.transform(Y_val)"
   ]
  },
  {
   "cell_type": "markdown",
   "metadata": {},
   "source": [
    "### Putting into sequence of weeks (window length)"
   ]
  },
  {
   "cell_type": "code",
   "execution_count": 30,
   "metadata": {},
   "outputs": [],
   "source": [
    "# # split a multivariate sequence into samples\n",
    "# def split_multivar_sequences(sequenceX, sequenceY, n_steps):\n",
    "#     X, y = list(), list()\n",
    "#     for i in range(len(sequenceX)):\n",
    "#         # find the end of this pattern\n",
    "#         end_idx = i + n_steps\n",
    "#         # check if we are beyond the dataset\n",
    "#         if end_idx > len(sequenceY)-1:\n",
    "#             break\n",
    "#         # gather input and output parts of the pattern\n",
    "#         seq_x, seq_y = sequenceX[i:end_idx, :], sequenceY[end_idx]\n",
    "#         X.append(seq_x)\n",
    "#         y.append(seq_y)\n",
    "#     return np.array(X), np.array(y)\n",
    "\n",
    "# timesteps = 24*7\n",
    "# X_train_seq_weeks, Y_train_seq_weeks = split_multivar_sequences(X_train_normalised, Y_train_normalised, timesteps)\n",
    "# X_test_seq_weeks, Y_test_seq_weeks = split_multivar_sequences(X_test_normalised, Y_test_normalised, timesteps)\n",
    "\n"
   ]
  },
  {
   "cell_type": "code",
   "execution_count": 5,
   "metadata": {},
   "outputs": [],
   "source": [
    "timesteps = 24*7\n",
    "window_length = timesteps\n",
    "batch_size = 16\n",
    "num_features = 15\n",
    "train_generator = TimeseriesGenerator(X_train_normalised, Y_train_normalised,length=window_length, batch_size=batch_size)\n",
    "test_generator = TimeseriesGenerator(X_test_normalised, Y_test_normalised,length=window_length, batch_size=batch_size)\n",
    "val_generator = TimeseriesGenerator(X_val_norm, Y_val_norm, length=window_length, batch_size=batch_size)"
   ]
  },
  {
   "cell_type": "code",
   "execution_count": 13,
   "metadata": {},
   "outputs": [
    {
     "data": {
      "text/plain": [
       "<function TimeseriesGenerator.__sizeof__()>"
      ]
     },
     "execution_count": 13,
     "metadata": {},
     "output_type": "execute_result"
    }
   ],
   "source": [
    "(train_generator)"
   ]
  },
  {
   "cell_type": "code",
   "execution_count": 9,
   "metadata": {},
   "outputs": [
    {
     "name": "stdout",
     "output_type": "stream",
     "text": [
      "(n_samples, n_steps, n_features)\n",
      "Shape of X: (25392, 168, 15)\n",
      "Shape of Y: (25392, 4)\n",
      "Shape of X: (7920, 168, 15)\n",
      "Shape of Y: (7920, 4)\n"
     ]
    }
   ],
   "source": [
    "# print('(n_samples, n_steps, n_features)')\n",
    "# print(f'Shape of X: {(X_train_seq_weeks).shape}')\n",
    "# print(f'Shape of Y: {(Y_train_seq_weeks).shape}')\n",
    "\n",
    "\n",
    "# print(f'Shape of X: {(X_test_seq_weeks).shape}')\n",
    "# print(f'Shape of Y: {(Y_test_seq_weeks).shape}')"
   ]
  },
  {
   "cell_type": "markdown",
   "metadata": {},
   "source": [
    "# Model Building (Single LTSM 32 Units)"
   ]
  },
  {
   "cell_type": "code",
   "execution_count": 59,
   "metadata": {},
   "outputs": [
    {
     "name": "stdout",
     "output_type": "stream",
     "text": [
      "Model: \"sequential_3\"\n",
      "_________________________________________________________________\n",
      " Layer (type)                Output Shape              Param #   \n",
      "=================================================================\n",
      " lstm_5 (LSTM)               (None, 32)                6144      \n",
      "                                                                 \n",
      " dropout_5 (Dropout)         (None, 32)                0         \n",
      "                                                                 \n",
      " dense_3 (Dense)             (None, 4)                 132       \n",
      "                                                                 \n",
      "=================================================================\n",
      "Total params: 6276 (24.52 KB)\n",
      "Trainable params: 6276 (24.52 KB)\n",
      "Non-trainable params: 0 (0.00 Byte)\n",
      "_________________________________________________________________\n"
     ]
    }
   ],
   "source": [
    "patience = 2 #num epochs without improvement\n",
    "\n",
    "model = tf.keras.Sequential([\n",
    "  layers.LSTM(32, input_shape = (window_length, 15), return_sequences=False, activation='tanh'),\n",
    "  layers.Dropout(0.2),\n",
    "  layers.Dense(4, activation='linear')])\n",
    "\n",
    "model.build((None, timesteps, 15))\n",
    "model.summary()\n",
    "\n",
    "early_stopping = tf.keras.callbacks.EarlyStopping(monitor='mean_absolute_error', patience=patience, mode='min', verbose=True, restore_best_weights=True)\n",
    "\n",
    "\n",
    "model.compile(loss=tf.keras.losses.MeanSquaredError(),\n",
    "                optimizer=tf.keras.optimizers.Adam(),\n",
    "                metrics=[tf.keras.metrics.MeanAbsoluteError()])\n",
    "\n"
   ]
  },
  {
   "cell_type": "code",
   "execution_count": 61,
   "metadata": {},
   "outputs": [
    {
     "name": "stdout",
     "output_type": "stream",
     "text": [
      "Epoch 1/5\n",
      "1693/1693 [==============================] - 37s 21ms/step - loss: 0.8364 - mean_absolute_error: 0.4502 - val_loss: 1.3293 - val_mean_absolute_error: 0.6123\n",
      "Epoch 2/5\n",
      "1693/1693 [==============================] - 39s 23ms/step - loss: 0.6947 - mean_absolute_error: 0.3922 - val_loss: 1.4101 - val_mean_absolute_error: 0.6420\n",
      "Epoch 3/5\n",
      "1693/1693 [==============================] - 40s 23ms/step - loss: 0.6351 - mean_absolute_error: 0.3674 - val_loss: 1.2203 - val_mean_absolute_error: 0.5993\n",
      "Epoch 4/5\n",
      "1693/1693 [==============================] - 40s 23ms/step - loss: 0.5986 - mean_absolute_error: 0.3544 - val_loss: 1.1636 - val_mean_absolute_error: 0.5692\n",
      "Epoch 5/5\n",
      "1693/1693 [==============================] - 40s 24ms/step - loss: 0.5815 - mean_absolute_error: 0.3422 - val_loss: 1.0879 - val_mean_absolute_error: 0.5586\n"
     ]
    }
   ],
   "source": [
    "history = model.fit(train_generator, epochs=5, validation_data= val_generator,  callbacks=[early_stopping], verbose=1)\n"
   ]
  },
  {
   "cell_type": "markdown",
   "metadata": {},
   "source": [
    "## Bidirectional LTSM 32 Units"
   ]
  },
  {
   "cell_type": "code",
   "execution_count": 62,
   "metadata": {},
   "outputs": [
    {
     "name": "stdout",
     "output_type": "stream",
     "text": [
      "Model: \"sequential_4\"\n",
      "_________________________________________________________________\n",
      " Layer (type)                Output Shape              Param #   \n",
      "=================================================================\n",
      " bidirectional (Bidirection  (None, 64)                12288     \n",
      " al)                                                             \n",
      "                                                                 \n",
      " dropout_6 (Dropout)         (None, 64)                0         \n",
      "                                                                 \n",
      " dense_4 (Dense)             (None, 4)                 260       \n",
      "                                                                 \n",
      "=================================================================\n",
      "Total params: 12548 (49.02 KB)\n",
      "Trainable params: 12548 (49.02 KB)\n",
      "Non-trainable params: 0 (0.00 Byte)\n",
      "_________________________________________________________________\n"
     ]
    }
   ],
   "source": [
    "patience = 2 #num epochs without improvement\n",
    "\n",
    "model = tf.keras.Sequential([\n",
    "  layers.Bidirectional(\n",
    "  layers.LSTM(32, input_shape = (window_length, 15), return_sequences=False, activation='tanh')),\n",
    "  layers.Dropout(0.2),\n",
    "  layers.Dense(4, activation='linear')])\n",
    "\n",
    "model.build((None, timesteps, 15))\n",
    "model.summary()\n",
    "\n",
    "early_stopping = tf.keras.callbacks.EarlyStopping(monitor='mean_absolute_error', patience=patience, mode='min', verbose=True, restore_best_weights=True)\n",
    "\n",
    "\n",
    "model.compile(loss=tf.keras.losses.MeanSquaredError(),\n",
    "                optimizer=tf.keras.optimizers.Adam(),\n",
    "                metrics=[tf.keras.metrics.MeanAbsoluteError()])\n"
   ]
  },
  {
   "cell_type": "code",
   "execution_count": 63,
   "metadata": {},
   "outputs": [
    {
     "name": "stdout",
     "output_type": "stream",
     "text": [
      "Epoch 1/5\n",
      "1693/1693 [==============================] - 57s 32ms/step - loss: 0.8005 - mean_absolute_error: 0.4499 - val_loss: 1.5454 - val_mean_absolute_error: 0.6923\n",
      "Epoch 2/5\n",
      "1693/1693 [==============================] - 61s 36ms/step - loss: 0.6590 - mean_absolute_error: 0.3898 - val_loss: 1.2863 - val_mean_absolute_error: 0.6235\n",
      "Epoch 3/5\n",
      "1693/1693 [==============================] - 61s 36ms/step - loss: 0.5990 - mean_absolute_error: 0.3625 - val_loss: 1.1672 - val_mean_absolute_error: 0.6052\n",
      "Epoch 4/5\n",
      "1693/1693 [==============================] - 60s 36ms/step - loss: 0.5696 - mean_absolute_error: 0.3472 - val_loss: 1.0568 - val_mean_absolute_error: 0.5923\n",
      "Epoch 5/5\n",
      "1693/1693 [==============================] - 66s 39ms/step - loss: 0.5405 - mean_absolute_error: 0.3329 - val_loss: 1.1453 - val_mean_absolute_error: 0.6261\n"
     ]
    }
   ],
   "source": [
    "bi_history = model.fit(train_generator, epochs=5, validation_data= val_generator,  callbacks=[early_stopping], verbose=1)"
   ]
  },
  {
   "cell_type": "markdown",
   "metadata": {},
   "source": [
    "### Deep model standard LTSM"
   ]
  },
  {
   "cell_type": "code",
   "execution_count": 66,
   "metadata": {},
   "outputs": [
    {
     "name": "stdout",
     "output_type": "stream",
     "text": [
      "Model: \"sequential_7\"\n",
      "_________________________________________________________________\n",
      " Layer (type)                Output Shape              Param #   \n",
      "=================================================================\n",
      " lstm_11 (LSTM)              (None, 168, 32)           6144      \n",
      "                                                                 \n",
      " dropout_10 (Dropout)        (None, 168, 32)           0         \n",
      "                                                                 \n",
      " lstm_12 (LSTM)              (None, 32)                8320      \n",
      "                                                                 \n",
      " dropout_11 (Dropout)        (None, 32)                0         \n",
      "                                                                 \n",
      " dense_7 (Dense)             (None, 4)                 132       \n",
      "                                                                 \n",
      "=================================================================\n",
      "Total params: 14596 (57.02 KB)\n",
      "Trainable params: 14596 (57.02 KB)\n",
      "Non-trainable params: 0 (0.00 Byte)\n",
      "_________________________________________________________________\n"
     ]
    }
   ],
   "source": [
    "patience = 2 #num epochs without improvement\n",
    "\n",
    "model = tf.keras.Sequential([\n",
    "  layers.LSTM(32, input_shape = (window_length, 15), return_sequences=True, activation='tanh'),\n",
    "  layers.Dropout(0.2),\n",
    "  layers.LSTM(32, input_shape = (window_length, 15)),\n",
    "  layers.Dropout(0.2),\n",
    "  layers.Dense(4, activation='linear')])\n",
    "\n",
    "model.build((None, timesteps, 15))\n",
    "model.summary()\n",
    "\n",
    "early_stopping = tf.keras.callbacks.EarlyStopping(monitor='mean_absolute_error', patience=patience, mode='min', verbose=True, restore_best_weights=True)\n",
    "\n",
    "\n",
    "model.compile(loss=tf.keras.losses.MeanSquaredError(),\n",
    "                optimizer=tf.keras.optimizers.Adam(),\n",
    "                metrics=[tf.keras.metrics.MeanAbsoluteError()])\n",
    "\n"
   ]
  },
  {
   "cell_type": "code",
   "execution_count": 67,
   "metadata": {},
   "outputs": [
    {
     "name": "stdout",
     "output_type": "stream",
     "text": [
      "Epoch 1/5\n",
      "1693/1693 [==============================] - 89s 51ms/step - loss: 0.8046 - mean_absolute_error: 0.4224 - val_loss: 1.4161 - val_mean_absolute_error: 0.5997\n",
      "Epoch 2/5\n",
      "1693/1693 [==============================] - 94s 55ms/step - loss: 0.6874 - mean_absolute_error: 0.3712 - val_loss: 1.0877 - val_mean_absolute_error: 0.5218\n",
      "Epoch 3/5\n",
      "1693/1693 [==============================] - 95s 56ms/step - loss: 0.6317 - mean_absolute_error: 0.3479 - val_loss: 1.1016 - val_mean_absolute_error: 0.5276\n",
      "Epoch 4/5\n",
      "1693/1693 [==============================] - 89s 53ms/step - loss: 0.5823 - mean_absolute_error: 0.3280 - val_loss: 1.0130 - val_mean_absolute_error: 0.5241\n",
      "Epoch 5/5\n",
      "1693/1693 [==============================] - 108s 64ms/step - loss: 0.5682 - mean_absolute_error: 0.3239 - val_loss: 0.9596 - val_mean_absolute_error: 0.4839\n"
     ]
    }
   ],
   "source": [
    "deep_history = model.fit(train_generator, epochs=5, validation_data= val_generator,  callbacks=[early_stopping], verbose=1)"
   ]
  },
  {
   "cell_type": "markdown",
   "metadata": {},
   "source": [
    "### Deep model bi directional LTSM"
   ]
  },
  {
   "cell_type": "code",
   "execution_count": 68,
   "metadata": {},
   "outputs": [
    {
     "name": "stdout",
     "output_type": "stream",
     "text": [
      "Model: \"sequential_8\"\n",
      "_________________________________________________________________\n",
      " Layer (type)                Output Shape              Param #   \n",
      "=================================================================\n",
      " bidirectional_1 (Bidirecti  (None, 168, 64)           12288     \n",
      " onal)                                                           \n",
      "                                                                 \n",
      " dropout_12 (Dropout)        (None, 168, 64)           0         \n",
      "                                                                 \n",
      " bidirectional_2 (Bidirecti  (None, 64)                24832     \n",
      " onal)                                                           \n",
      "                                                                 \n",
      " dropout_13 (Dropout)        (None, 64)                0         \n",
      "                                                                 \n",
      " dense_8 (Dense)             (None, 4)                 260       \n",
      "                                                                 \n",
      "=================================================================\n",
      "Total params: 37380 (146.02 KB)\n",
      "Trainable params: 37380 (146.02 KB)\n",
      "Non-trainable params: 0 (0.00 Byte)\n",
      "_________________________________________________________________\n"
     ]
    }
   ],
   "source": [
    "patience = 2 #num epochs without improvement\n",
    "\n",
    "model = tf.keras.Sequential([\n",
    "  layers.Bidirectional(\n",
    "  layers.LSTM(32, input_shape = (window_length, 15), return_sequences=True, activation='tanh')),\n",
    "  layers.Dropout(0.2),\n",
    "  layers.Bidirectional(\n",
    "  layers.LSTM(32,  return_sequences=False)),\n",
    "  layers.Dropout(0.2),\n",
    "  layers.Dense(4, activation='linear')])\n",
    "\n",
    "model.build((None, timesteps, 15))\n",
    "model.summary()\n",
    "\n",
    "early_stopping = tf.keras.callbacks.EarlyStopping(monitor='mean_absolute_error', patience=patience, mode='min', verbose=True, restore_best_weights=True)\n",
    "\n",
    "\n",
    "model.compile(loss=tf.keras.losses.MeanSquaredError(),\n",
    "                optimizer=tf.keras.optimizers.Adam(),\n",
    "                metrics=[tf.keras.metrics.MeanAbsoluteError()])"
   ]
  },
  {
   "cell_type": "code",
   "execution_count": 69,
   "metadata": {},
   "outputs": [
    {
     "name": "stdout",
     "output_type": "stream",
     "text": [
      "Epoch 1/5\n",
      "1693/1693 [==============================] - 142s 81ms/step - loss: 0.7776 - mean_absolute_error: 0.4286 - val_loss: 1.6222 - val_mean_absolute_error: 0.6613\n",
      "Epoch 2/5\n",
      "1693/1693 [==============================] - 137s 81ms/step - loss: 0.6329 - mean_absolute_error: 0.3670 - val_loss: 1.1727 - val_mean_absolute_error: 0.5813\n",
      "Epoch 3/5\n",
      "1693/1693 [==============================] - 145s 86ms/step - loss: 0.5717 - mean_absolute_error: 0.3325 - val_loss: 1.0787 - val_mean_absolute_error: 0.5646\n",
      "Epoch 4/5\n",
      "1693/1693 [==============================] - 142s 84ms/step - loss: 0.5222 - mean_absolute_error: 0.3114 - val_loss: 0.9722 - val_mean_absolute_error: 0.5279\n",
      "Epoch 5/5\n",
      "1693/1693 [==============================] - 146s 86ms/step - loss: 0.4953 - mean_absolute_error: 0.3030 - val_loss: 1.0038 - val_mean_absolute_error: 0.5241\n"
     ]
    }
   ],
   "source": [
    "deep_history_bi = model.fit(train_generator, epochs=5, validation_data= val_generator,  callbacks=[early_stopping], verbose=1)"
   ]
  },
  {
   "cell_type": "code",
   "execution_count": 76,
   "metadata": {},
   "outputs": [
    {
     "data": {
      "image/png": "[encoded data removed]",
      "text/plain": [
       "<Figure size 1000x600 with 1 Axes>"
      ]
     },
     "metadata": {},
     "output_type": "display_data"
    }
   ],
   "source": [
    "history_dicts = [deep_history_bi.history, history.history, deep_history.history]\n",
    "\n",
    "# Define labels for each model\n",
    "model_labels = ['Deep Bidirectional', 'Birectional', 'Deep Unidirectional']\n",
    "\n",
    "# Create a new figure\n",
    "plt.figure(figsize=(10, 6))\n",
    "\n",
    "# Loop through each model's history\n",
    "for i, history_dict in enumerate(history_dicts):\n",
    "    error = history_dict['mean_absolute_error']\n",
    "    val_error = history_dict['val_mean_absolute_error']\n",
    "    loss = history_dict['loss']\n",
    "    val_loss = history_dict['val_loss']\n",
    "\n",
    "    epochs = range(1, len(error) + 1)\n",
    "\n",
    "    # Plot training loss with dots\n",
    "    plt.plot(epochs, loss, 'o-', label=f'{model_labels[i]} - Training loss')\n",
    "    \n",
    "    # Plot validation loss with lines\n",
    "    plt.plot(epochs, val_loss, '-', label=f'{model_labels[i]} - Validation loss')\n",
    "\n",
    "plt.title('Training and validation loss for Multiple Models')\n",
    "plt.xlabel('Epochs')\n",
    "plt.ylabel('Loss')\n",
    "plt.legend()\n",
    "plt.grid(True)\n",
    "\n",
    "plt.show()\n"
   ]
  },
  {
   "cell_type": "markdown",
   "metadata": {},
   "source": [
    "## Model making"
   ]
  },
  {
   "cell_type": "markdown",
   "metadata": {},
   "source": [
    "### Deep bidirectional with more epochs and more units"
   ]
  },
  {
   "cell_type": "code",
   "execution_count": 79,
   "metadata": {},
   "outputs": [
    {
     "name": "stdout",
     "output_type": "stream",
     "text": [
      "Model: \"sequential_11\"\n",
      "_________________________________________________________________\n",
      " Layer (type)                Output Shape              Param #   \n",
      "=================================================================\n",
      " bidirectional_7 (Bidirecti  (None, 168, 128)          40960     \n",
      " onal)                                                           \n",
      "                                                                 \n",
      " dropout_18 (Dropout)        (None, 168, 128)          0         \n",
      "                                                                 \n",
      " bidirectional_8 (Bidirecti  (None, 64)                41216     \n",
      " onal)                                                           \n",
      "                                                                 \n",
      " dropout_19 (Dropout)        (None, 64)                0         \n",
      "                                                                 \n",
      " dense_11 (Dense)            (None, 4)                 260       \n",
      "                                                                 \n",
      "=================================================================\n",
      "Total params: 82436 (322.02 KB)\n",
      "Trainable params: 82436 (322.02 KB)\n",
      "Non-trainable params: 0 (0.00 Byte)\n",
      "_________________________________________________________________\n"
     ]
    }
   ],
   "source": [
    "patience = 2 #num epochs without improvement\n",
    "\n",
    "model = tf.keras.Sequential([\n",
    "  layers.Bidirectional(\n",
    "  layers.LSTM(window_length, input_shape = (window_length, 15), return_sequences=True, activation='tanh')),\n",
    "  layers.Dropout(0.2),\n",
    "  layers.Bidirectional(\n",
    "  layers.LSTM(32,  return_sequences=False)),\n",
    "  layers.Dropout(0.2),\n",
    "  layers.Dense(4, activation='linear')])\n",
    "\n",
    "model.build((None, timesteps, 15))\n",
    "model.summary()\n",
    "\n",
    "early_stopping = tf.keras.callbacks.EarlyStopping(monitor='mean_absolute_error', patience=patience, mode='min', verbose=True, restore_best_weights=True)\n",
    "\n",
    "\n",
    "model.compile(loss=tf.keras.losses.MeanSquaredError(),\n",
    "                optimizer=tf.keras.optimizers.Adam(),\n",
    "                metrics=[tf.keras.metrics.MeanAbsoluteError()])"
   ]
  },
  {
   "cell_type": "code",
   "execution_count": null,
   "metadata": {},
   "outputs": [],
   "source": [
    "model_history = model.fit(train_generator, epochs=100, validation_data= val_generator,  callbacks=[early_stopping], verbose=1)"
   ]
  }
 ],
 "metadata": {
  "kernelspec": {
   "display_name": "loadshedding_env",
   "language": "python",
   "name": "python3"
  },
  "language_info": {
   "codemirror_mode": {
    "name": "ipython",
    "version": 3
   },
   "file_extension": ".py",
   "mimetype": "text/x-python",
   "name": "python",
   "nbconvert_exporter": "python",
   "pygments_lexer": "ipython3",
   "version": "3.11.5"
  },
  "orig_nbformat": 4
 },
 "nbformat": 4,
 "nbformat_minor": 2
}
