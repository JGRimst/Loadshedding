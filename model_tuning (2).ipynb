{
  "nbformat": 4,
  "nbformat_minor": 0,
  "metadata": {
    "colab": {
      "provenance": [],
      "gpuType": "T4"
    },
    "kernelspec": {
      "name": "python3",
      "display_name": "Python 3"
    },
    "language_info": {
      "name": "python"
    },
    "accelerator": "GPU"
  },
  "cells": [
    {
      "cell_type": "code",
      "execution_count": 1,
      "metadata": {
        "colab": {
          "base_uri": "https://localhost:8080/"
        },
        "id": "2kb_eqxZWoLC",
        "outputId": "efd95166-9e03-4388-de71-1c7a16b82258"
      },
      "outputs": [
        {
          "output_type": "stream",
          "name": "stdout",
          "text": [
            "Training set (X_train, Y_train) shapes: (27254, 15) (27254, 4)\n",
            "Validation set (X_val, Y_val) shapes: (3029, 15) (3029, 4)\n",
            "Test set (X_test, Y_test) shapes: (3365, 15) (3365, 4)\n"
          ]
        }
      ],
      "source": [
        "import tensorflow as tf\n",
        "import numpy as np\n",
        "import pandas as pd\n",
        "from sklearn.preprocessing import StandardScaler\n",
        "\n",
        "import matplotlib.pyplot as plt\n",
        "\n",
        "from tensorflow import keras\n",
        "\n",
        "from keras import layers\n",
        "from keras import losses\n",
        "\n",
        "from keras.layers import LSTM, Dense\n",
        "from sklearn.model_selection import train_test_split\n",
        "from keras.preprocessing.sequence import TimeseriesGenerator\n",
        "\n",
        "\n",
        "data = pd.read_csv('/content/Final_eskom_vector_grid_health.csv')\n",
        "data = pd.DataFrame(data)\n",
        "data['Time'] = pd.to_datetime(data['DateTime'])\n",
        "data.set_index('Time', inplace=True)\n",
        "\n",
        "\n",
        "Y_columns = [\n",
        "    'ILS Usage',\n",
        "    'MLR', 'IOS Excl ILS and MLR',\n",
        "     'Total UCLF+OCLF'\n",
        "]\n",
        "Y = data[Y_columns].values\n",
        "X = data.drop(columns=Y_columns, axis=1)\n",
        "X.drop(['DateTime'], axis =1, inplace = True)\n",
        "X = X.values\n",
        "\n",
        "X_train_temp, X_test, Y_train_temp, Y_test = train_test_split(X, Y, test_size=0.10, shuffle=False, random_state=42)\n",
        "\n",
        "# Then, split the temporary test set into validation (50%) and final test (50%)\n",
        "X_train, X_val, Y_train, Y_val = train_test_split(X_train_temp, Y_train_temp, test_size=0.10, shuffle=False, random_state=42)\n",
        "\n",
        "# Print the shapes of the resulting sets\n",
        "print(\"Training set (X_train, Y_train) shapes:\", X_train.shape, Y_train.shape)\n",
        "print(\"Validation set (X_val, Y_val) shapes:\", X_val.shape, Y_val.shape)\n",
        "print(\"Test set (X_test, Y_test) shapes:\", X_test.shape, Y_test.shape)\n",
        "\n",
        "\n",
        "scaler = StandardScaler()\n",
        "X_train_normalised = scaler.fit_transform(X_train)\n",
        "X_test_normalised = scaler.transform(X_test)\n",
        "X_val_norm = scaler.transform(X_val)\n",
        "\n",
        "Y_train_normalised = scaler.fit_transform(Y_train)\n",
        "Y_test_normalised = scaler.transform(Y_test)\n",
        "Y_val_norm = scaler.transform(Y_val)\n",
        "\n",
        "\n",
        "timesteps = 24*7\n",
        "window_length = timesteps\n",
        "batch_size = 16\n",
        "num_features = 15\n",
        "train_generator = TimeseriesGenerator(X_train_normalised, Y_train_normalised,length=window_length, batch_size=batch_size)\n",
        "test_generator = TimeseriesGenerator(X_test_normalised, Y_test_normalised,length=window_length, batch_size=batch_size)\n",
        "val_generator = TimeseriesGenerator(X_val_norm, Y_val_norm, length=window_length, batch_size=batch_size)\n"
      ]
    },
    {
      "cell_type": "markdown",
      "source": [
        "## Final test on architecture type 2Layers-1B-1L vs 3Layers-2B-1L vs 2Layers-2L"
      ],
      "metadata": {
        "id": "sKDYQYD2Z4Ss"
      }
    },
    {
      "cell_type": "code",
      "source": [
        "epochs = 50\n",
        "num_layers = 16\n",
        "patience = 5\n",
        "early_stopping = tf.keras.callbacks.EarlyStopping(monitor='val_loss', patience=patience, mode='min', verbose=True, restore_best_weights=True)"
      ],
      "metadata": {
        "id": "JdssnZd8bUcn"
      },
      "execution_count": 24,
      "outputs": []
    },
    {
      "cell_type": "code",
      "source": [
        "## 2 layers 2 LSTM\n",
        " #num epochs without improvement\n",
        "\n",
        "model_simple = tf.keras.Sequential([\n",
        "  layers.LSTM(16, input_shape = (window_length, 15), return_sequences=True, activation='tanh'),\n",
        "  layers.Dropout(0.2),\n",
        "  layers.LSTM(16, input_shape = (window_length, 15)),\n",
        "  layers.Dropout(0.2),\n",
        "  layers.Dense(4, activation='linear')])\n",
        "\n",
        "model_simple.build((None, timesteps, 15))\n",
        "model_simple.summary()\n",
        "\n",
        "early_stopping = tf.keras.callbacks.EarlyStopping(monitor='val_loss', patience=patience, mode='min', verbose=True, restore_best_weights=True)\n",
        "\n",
        "\n",
        "model_simple.compile(loss=tf.keras.losses.Huber(delta = 0.3),\n",
        "                optimizer=tf.keras.optimizers.Adam(),\n",
        "                metrics=[tf.keras.losses.Huber()])\n",
        "history_simple = model_simple.fit(train_generator, epochs=epochs, validation_data= val_generator,  callbacks=[early_stopping], verbose=1)"
      ],
      "metadata": {
        "colab": {
          "base_uri": "https://localhost:8080/"
        },
        "id": "wqwR_3MFZ_11",
        "outputId": "4a5576db-39b9-44fb-e790-69eaede218bc"
      },
      "execution_count": null,
      "outputs": [
        {
          "output_type": "stream",
          "name": "stdout",
          "text": [
            "Model: \"sequential\"\n",
            "_________________________________________________________________\n",
            " Layer (type)                Output Shape              Param #   \n",
            "=================================================================\n",
            " lstm (LSTM)                 (None, 168, 16)           2048      \n",
            "                                                                 \n",
            " dropout (Dropout)           (None, 168, 16)           0         \n",
            "                                                                 \n",
            " lstm_1 (LSTM)               (None, 16)                2112      \n",
            "                                                                 \n",
            " dropout_1 (Dropout)         (None, 16)                0         \n",
            "                                                                 \n",
            " dense (Dense)               (None, 4)                 68        \n",
            "                                                                 \n",
            "=================================================================\n",
            "Total params: 4228 (16.52 KB)\n",
            "Trainable params: 4228 (16.52 KB)\n",
            "Non-trainable params: 0 (0.00 Byte)\n",
            "_________________________________________________________________\n",
            "Epoch 1/50\n",
            "1118/1118 [==============================] - 35s 17ms/step - loss: 0.0822 - huber_loss: 0.2006 - val_loss: 0.1358 - val_huber_loss: 0.3579\n",
            "Epoch 2/50\n",
            "1118/1118 [==============================] - 18s 16ms/step - loss: 0.0700 - huber_loss: 0.1729 - val_loss: 0.1145 - val_huber_loss: 0.2912\n",
            "Epoch 3/50\n",
            "1118/1118 [==============================] - 16s 15ms/step - loss: 0.0675 - huber_loss: 0.1683 - val_loss: 0.1209 - val_huber_loss: 0.3107\n",
            "Epoch 4/50\n",
            "1118/1118 [==============================] - 16s 15ms/step - loss: 0.0653 - huber_loss: 0.1630 - val_loss: 0.1138 - val_huber_loss: 0.2870\n",
            "Epoch 5/50\n",
            "1118/1118 [==============================] - 17s 15ms/step - loss: 0.0637 - huber_loss: 0.1587 - val_loss: 0.1288 - val_huber_loss: 0.3318\n",
            "Epoch 6/50\n",
            "1118/1118 [==============================] - 17s 15ms/step - loss: 0.0618 - huber_loss: 0.1530 - val_loss: 0.1276 - val_huber_loss: 0.3271\n",
            "Epoch 7/50\n",
            "1118/1118 [==============================] - 17s 15ms/step - loss: 0.0610 - huber_loss: 0.1503 - val_loss: 0.1241 - val_huber_loss: 0.3206\n",
            "Epoch 8/50\n",
            "1118/1118 [==============================] - 17s 15ms/step - loss: 0.0589 - huber_loss: 0.1453 - val_loss: 0.1269 - val_huber_loss: 0.3279\n",
            "Epoch 9/50\n",
            "1118/1118 [==============================] - 16s 15ms/step - loss: 0.0574 - huber_loss: 0.1409 - val_loss: 0.1242 - val_huber_loss: 0.3191\n",
            "Epoch 10/50\n",
            "1118/1118 [==============================] - 17s 15ms/step - loss: 0.0569 - huber_loss: 0.1398 - val_loss: 0.1159 - val_huber_loss: 0.2974\n",
            "Epoch 11/50\n",
            "1118/1118 [==============================] - 16s 14ms/step - loss: 0.0560 - huber_loss: 0.1375 - val_loss: 0.1192 - val_huber_loss: 0.3030\n",
            "Epoch 12/50\n",
            "1118/1118 [==============================] - 16s 14ms/step - loss: 0.0553 - huber_loss: 0.1362 - val_loss: 0.1120 - val_huber_loss: 0.2835\n",
            "Epoch 13/50\n",
            "1118/1118 [==============================] - 18s 16ms/step - loss: 0.0541 - huber_loss: 0.1333 - val_loss: 0.1344 - val_huber_loss: 0.3482\n",
            "Epoch 14/50\n",
            "1118/1118 [==============================] - 16s 15ms/step - loss: 0.0539 - huber_loss: 0.1331 - val_loss: 0.1313 - val_huber_loss: 0.3287\n",
            "Epoch 15/50\n",
            "1118/1118 [==============================] - 17s 15ms/step - loss: 0.0536 - huber_loss: 0.1317 - val_loss: 0.1222 - val_huber_loss: 0.3141\n",
            "Epoch 16/50\n",
            "1118/1118 [==============================] - 16s 15ms/step - loss: 0.0520 - huber_loss: 0.1281 - val_loss: 0.1200 - val_huber_loss: 0.3069\n",
            "Epoch 17/50\n",
            "1118/1118 [==============================] - 17s 15ms/step - loss: 0.0519 - huber_loss: 0.1278 - val_loss: 0.1220 - val_huber_loss: 0.3143\n",
            "Epoch 18/50\n",
            "1118/1118 [==============================] - 16s 15ms/step - loss: 0.0513 - huber_loss: 0.1264 - val_loss: 0.1155 - val_huber_loss: 0.2933\n",
            "Epoch 19/50\n",
            "1118/1118 [==============================] - 17s 15ms/step - loss: 0.0506 - huber_loss: 0.1248 - val_loss: 0.1114 - val_huber_loss: 0.2838\n",
            "Epoch 20/50\n",
            "1118/1118 [==============================] - 16s 15ms/step - loss: 0.0501 - huber_loss: 0.1234 - val_loss: 0.1157 - val_huber_loss: 0.2965\n",
            "Epoch 21/50\n",
            "1118/1118 [==============================] - 16s 15ms/step - loss: 0.0498 - huber_loss: 0.1228 - val_loss: 0.1178 - val_huber_loss: 0.2997\n",
            "Epoch 22/50\n",
            "1118/1118 [==============================] - 17s 15ms/step - loss: 0.0491 - huber_loss: 0.1209 - val_loss: 0.1095 - val_huber_loss: 0.2731\n",
            "Epoch 23/50\n",
            "1118/1118 [==============================] - 16s 15ms/step - loss: 0.0500 - huber_loss: 0.1232 - val_loss: 0.1064 - val_huber_loss: 0.2696\n",
            "Epoch 24/50\n",
            "1118/1118 [==============================] - 17s 15ms/step - loss: 0.0492 - huber_loss: 0.1209 - val_loss: 0.1082 - val_huber_loss: 0.2725\n",
            "Epoch 25/50\n",
            "1118/1118 [==============================] - 17s 16ms/step - loss: 0.0487 - huber_loss: 0.1198 - val_loss: 0.1164 - val_huber_loss: 0.2961\n",
            "Epoch 26/50\n",
            "1118/1118 [==============================] - 16s 15ms/step - loss: 0.0483 - huber_loss: 0.1192 - val_loss: 0.1153 - val_huber_loss: 0.2906\n",
            "Epoch 27/50\n",
            "1118/1118 [==============================] - 18s 16ms/step - loss: 0.0480 - huber_loss: 0.1182 - val_loss: 0.1091 - val_huber_loss: 0.2740\n",
            "Epoch 28/50\n",
            "1118/1118 [==============================] - 16s 15ms/step - loss: 0.0478 - huber_loss: 0.1184 - val_loss: 0.1144 - val_huber_loss: 0.2870\n",
            "Epoch 29/50\n",
            "1118/1118 [==============================] - 16s 14ms/step - loss: 0.0482 - huber_loss: 0.1188 - val_loss: 0.1189 - val_huber_loss: 0.2968\n",
            "Epoch 30/50\n",
            "1118/1118 [==============================] - 17s 15ms/step - loss: 0.0475 - huber_loss: 0.1175 - val_loss: 0.1130 - val_huber_loss: 0.2818\n",
            "Epoch 31/50\n",
            "1117/1118 [============================>.] - ETA: 0s - loss: 0.0471 - huber_loss: 0.1164Restoring model weights from the end of the best epoch: 23.\n",
            "1118/1118 [==============================] - 16s 14ms/step - loss: 0.0471 - huber_loss: 0.1163 - val_loss: 0.1096 - val_huber_loss: 0.2741\n",
            "Epoch 31: early stopping\n"
          ]
        }
      ]
    },
    {
      "cell_type": "code",
      "source": [
        "## 2 layers 1 Birectional 1 LSTM\n",
        "\n",
        "modelH03 = tf.keras.Sequential([\n",
        "  layers.Bidirectional(\n",
        "  layers.LSTM(16, input_shape = (window_length, 15), return_sequences=True, activation='tanh')),\n",
        "  layers.Dropout(0.2),\n",
        "  layers.LSTM(16,  return_sequences=False),\n",
        "  layers.Dropout(0.2),\n",
        "  layers.Dense(4, activation='linear')])\n",
        "\n",
        "modelH03.build((None, timesteps, 15))\n",
        "modelH03.summary()\n",
        "\n",
        "modelH03.compile(loss=tf.keras.losses.Huber(delta=0.3),\n",
        "                optimizer=tf.keras.optimizers.Adam(),\n",
        "                metrics=[tf.keras.losses.Huber()])\n",
        "\n",
        "history_2Layers_simple = modelH03.fit(train_generator, epochs=epochs, validation_data= val_generator,  callbacks=[early_stopping], verbose=1)\n"
      ],
      "metadata": {
        "id": "_1vFqpEea4kN",
        "colab": {
          "base_uri": "https://localhost:8080/"
        },
        "outputId": "c16b13f2-4238-4a91-ce87-ff33767a6041"
      },
      "execution_count": null,
      "outputs": [
        {
          "output_type": "stream",
          "name": "stdout",
          "text": [
            "Model: \"sequential_1\"\n",
            "_________________________________________________________________\n",
            " Layer (type)                Output Shape              Param #   \n",
            "=================================================================\n",
            " bidirectional (Bidirection  (None, 168, 32)           4096      \n",
            " al)                                                             \n",
            "                                                                 \n",
            " dropout_2 (Dropout)         (None, 168, 32)           0         \n",
            "                                                                 \n",
            " lstm_3 (LSTM)               (None, 16)                3136      \n",
            "                                                                 \n",
            " dropout_3 (Dropout)         (None, 16)                0         \n",
            "                                                                 \n",
            " dense_1 (Dense)             (None, 4)                 68        \n",
            "                                                                 \n",
            "=================================================================\n",
            "Total params: 7300 (28.52 KB)\n",
            "Trainable params: 7300 (28.52 KB)\n",
            "Non-trainable params: 0 (0.00 Byte)\n",
            "_________________________________________________________________\n",
            "Epoch 1/50\n",
            "1118/1118 [==============================] - 30s 21ms/step - loss: 0.0826 - huber_loss: 0.2008 - val_loss: 0.1257 - val_huber_loss: 0.3242\n",
            "Epoch 2/50\n",
            "1118/1118 [==============================] - 23s 20ms/step - loss: 0.0703 - huber_loss: 0.1739 - val_loss: 0.1162 - val_huber_loss: 0.2999\n",
            "Epoch 3/50\n",
            "1118/1118 [==============================] - 23s 20ms/step - loss: 0.0666 - huber_loss: 0.1663 - val_loss: 0.1036 - val_huber_loss: 0.2629\n",
            "Epoch 4/50\n",
            "1118/1118 [==============================] - 22s 20ms/step - loss: 0.0650 - huber_loss: 0.1626 - val_loss: 0.1225 - val_huber_loss: 0.3159\n",
            "Epoch 5/50\n",
            "1118/1118 [==============================] - 23s 20ms/step - loss: 0.0637 - huber_loss: 0.1601 - val_loss: 0.1175 - val_huber_loss: 0.3016\n",
            "Epoch 6/50\n",
            "1118/1118 [==============================] - 23s 21ms/step - loss: 0.0639 - huber_loss: 0.1607 - val_loss: 0.1206 - val_huber_loss: 0.3108\n",
            "Epoch 7/50\n",
            "1118/1118 [==============================] - 23s 20ms/step - loss: 0.0621 - huber_loss: 0.1565 - val_loss: 0.1126 - val_huber_loss: 0.2843\n",
            "Epoch 8/50\n",
            "1118/1118 [==============================] - 22s 20ms/step - loss: 0.0609 - huber_loss: 0.1533 - val_loss: 0.1218 - val_huber_loss: 0.3130\n",
            "Epoch 9/50\n",
            "1118/1118 [==============================] - 23s 20ms/step - loss: 0.0608 - huber_loss: 0.1527 - val_loss: 0.1139 - val_huber_loss: 0.2908\n",
            "Epoch 10/50\n",
            "1118/1118 [==============================] - 23s 20ms/step - loss: 0.0590 - huber_loss: 0.1479 - val_loss: 0.1103 - val_huber_loss: 0.2796\n",
            "Epoch 11/50\n",
            "1117/1118 [============================>.] - ETA: 0s - loss: 0.0583 - huber_loss: 0.1450Restoring model weights from the end of the best epoch: 3.\n",
            "1118/1118 [==============================] - 23s 21ms/step - loss: 0.0582 - huber_loss: 0.1449 - val_loss: 0.1250 - val_huber_loss: 0.3157\n",
            "Epoch 11: early stopping\n"
          ]
        }
      ]
    },
    {
      "cell_type": "code",
      "source": [
        "## 3 layers 2 Bidirectional 1 LSTM\n",
        "model_decay_3 = tf.keras.Sequential([\n",
        "  layers.Bidirectional(\n",
        "  layers.LSTM(16, input_shape = (window_length, 15), return_sequences=True, activation='tanh')),\n",
        "  layers.Dropout(0.2),\n",
        "  layers.Bidirectional(layers.LSTM(16,  return_sequences=True)),\n",
        "  layers.Dropout(0.2),\n",
        "  layers.LSTM(16,  return_sequences=False),\n",
        "  layers.Dropout(0.2),\n",
        "  layers.Dense(4, activation='linear')])\n",
        "\n",
        "model_decay_3.build((None, timesteps, 15))\n",
        "model_decay_3.summary()\n",
        "\n",
        "model_decay_3.compile(loss=tf.keras.losses.Huber(delta=0.3),\n",
        "                optimizer=tf.keras.optimizers.Adam(),\n",
        "                metrics=[tf.keras.losses.Huber()])\n",
        "model_history_decay_3 = model_decay_3.fit(train_generator, epochs=epochs, validation_data= val_generator,  callbacks=[early_stopping], verbose=1)"
      ],
      "metadata": {
        "id": "TSh90D_2cJat",
        "colab": {
          "base_uri": "https://localhost:8080/"
        },
        "outputId": "19924809-3918-4142-dbf5-257c12b46c78"
      },
      "execution_count": null,
      "outputs": [
        {
          "output_type": "stream",
          "name": "stdout",
          "text": [
            "Model: \"sequential_2\"\n",
            "_________________________________________________________________\n",
            " Layer (type)                Output Shape              Param #   \n",
            "=================================================================\n",
            " bidirectional_1 (Bidirecti  (None, 168, 32)           4096      \n",
            " onal)                                                           \n",
            "                                                                 \n",
            " dropout_4 (Dropout)         (None, 168, 32)           0         \n",
            "                                                                 \n",
            " bidirectional_2 (Bidirecti  (None, 168, 32)           6272      \n",
            " onal)                                                           \n",
            "                                                                 \n",
            " dropout_5 (Dropout)         (None, 168, 32)           0         \n",
            "                                                                 \n",
            " lstm_6 (LSTM)               (None, 16)                3136      \n",
            "                                                                 \n",
            " dropout_6 (Dropout)         (None, 16)                0         \n",
            "                                                                 \n",
            " dense_2 (Dense)             (None, 4)                 68        \n",
            "                                                                 \n",
            "=================================================================\n",
            "Total params: 13572 (53.02 KB)\n",
            "Trainable params: 13572 (53.02 KB)\n",
            "Non-trainable params: 0 (0.00 Byte)\n",
            "_________________________________________________________________\n",
            "Epoch 1/50\n",
            "1118/1118 [==============================] - 49s 35ms/step - loss: 0.0808 - huber_loss: 0.1989 - val_loss: 0.1250 - val_huber_loss: 0.3261\n",
            "Epoch 2/50\n",
            "1118/1118 [==============================] - 37s 33ms/step - loss: 0.0702 - huber_loss: 0.1744 - val_loss: 0.1315 - val_huber_loss: 0.3428\n",
            "Epoch 3/50\n",
            "1118/1118 [==============================] - 37s 33ms/step - loss: 0.0665 - huber_loss: 0.1660 - val_loss: 0.1273 - val_huber_loss: 0.3327\n",
            "Epoch 4/50\n",
            "1118/1118 [==============================] - 38s 34ms/step - loss: 0.0652 - huber_loss: 0.1633 - val_loss: 0.1271 - val_huber_loss: 0.3267\n",
            "Epoch 5/50\n",
            "1118/1118 [==============================] - 37s 33ms/step - loss: 0.0641 - huber_loss: 0.1606 - val_loss: 0.1198 - val_huber_loss: 0.3084\n",
            "Epoch 6/50\n",
            "1118/1118 [==============================] - 37s 33ms/step - loss: 0.0622 - huber_loss: 0.1559 - val_loss: 0.1166 - val_huber_loss: 0.2956\n",
            "Epoch 7/50\n",
            "1118/1118 [==============================] - 37s 33ms/step - loss: 0.0615 - huber_loss: 0.1539 - val_loss: 0.1153 - val_huber_loss: 0.2896\n",
            "Epoch 8/50\n",
            "1118/1118 [==============================] - 37s 33ms/step - loss: 0.0596 - huber_loss: 0.1481 - val_loss: 0.1133 - val_huber_loss: 0.2866\n",
            "Epoch 9/50\n",
            "1118/1118 [==============================] - 38s 34ms/step - loss: 0.0582 - huber_loss: 0.1443 - val_loss: 0.1252 - val_huber_loss: 0.3106\n",
            "Epoch 10/50\n",
            "1118/1118 [==============================] - 37s 33ms/step - loss: 0.0560 - huber_loss: 0.1381 - val_loss: 0.1093 - val_huber_loss: 0.2724\n",
            "Epoch 11/50\n",
            "1118/1118 [==============================] - 37s 33ms/step - loss: 0.0546 - huber_loss: 0.1345 - val_loss: 0.1136 - val_huber_loss: 0.2768\n",
            "Epoch 12/50\n",
            "1118/1118 [==============================] - 35s 32ms/step - loss: 0.0534 - huber_loss: 0.1314 - val_loss: 0.1033 - val_huber_loss: 0.2525\n",
            "Epoch 13/50\n",
            "1118/1118 [==============================] - 35s 31ms/step - loss: 0.0536 - huber_loss: 0.1313 - val_loss: 0.1173 - val_huber_loss: 0.2904\n",
            "Epoch 14/50\n",
            "1118/1118 [==============================] - 35s 31ms/step - loss: 0.0511 - huber_loss: 0.1251 - val_loss: 0.1165 - val_huber_loss: 0.2866\n",
            "Epoch 15/50\n",
            "1118/1118 [==============================] - 36s 32ms/step - loss: 0.0499 - huber_loss: 0.1224 - val_loss: 0.1171 - val_huber_loss: 0.2907\n",
            "Epoch 16/50\n",
            "1118/1118 [==============================] - 35s 31ms/step - loss: 0.0501 - huber_loss: 0.1229 - val_loss: 0.1193 - val_huber_loss: 0.2982\n",
            "Epoch 17/50\n",
            "1118/1118 [==============================] - 36s 32ms/step - loss: 0.0494 - huber_loss: 0.1213 - val_loss: 0.1124 - val_huber_loss: 0.2805\n",
            "Epoch 18/50\n",
            "1118/1118 [==============================] - 35s 32ms/step - loss: 0.0481 - huber_loss: 0.1181 - val_loss: 0.1291 - val_huber_loss: 0.3205\n",
            "Epoch 19/50\n",
            "1118/1118 [==============================] - 36s 32ms/step - loss: 0.0485 - huber_loss: 0.1190 - val_loss: 0.1058 - val_huber_loss: 0.2639\n",
            "Epoch 20/50\n",
            "1118/1118 [==============================] - 35s 32ms/step - loss: 0.0474 - huber_loss: 0.1164 - val_loss: 0.1028 - val_huber_loss: 0.2547\n",
            "Epoch 21/50\n",
            "1118/1118 [==============================] - 35s 32ms/step - loss: 0.0473 - huber_loss: 0.1167 - val_loss: 0.1041 - val_huber_loss: 0.2564\n",
            "Epoch 22/50\n",
            "1118/1118 [==============================] - 36s 32ms/step - loss: 0.0471 - huber_loss: 0.1158 - val_loss: 0.1068 - val_huber_loss: 0.2670\n",
            "Epoch 23/50\n",
            "1118/1118 [==============================] - 36s 32ms/step - loss: 0.0463 - huber_loss: 0.1141 - val_loss: 0.1143 - val_huber_loss: 0.2786\n",
            "Epoch 24/50\n",
            "1118/1118 [==============================] - 36s 32ms/step - loss: 0.0454 - huber_loss: 0.1120 - val_loss: 0.1123 - val_huber_loss: 0.2759\n",
            "Epoch 25/50\n",
            "1118/1118 [==============================] - 35s 31ms/step - loss: 0.0455 - huber_loss: 0.1122 - val_loss: 0.1083 - val_huber_loss: 0.2692\n",
            "Epoch 26/50\n",
            "1118/1118 [==============================] - 35s 31ms/step - loss: 0.0448 - huber_loss: 0.1109 - val_loss: 0.1208 - val_huber_loss: 0.2985\n",
            "Epoch 27/50\n",
            "1118/1118 [==============================] - 35s 31ms/step - loss: 0.0443 - huber_loss: 0.1100 - val_loss: 0.1152 - val_huber_loss: 0.2806\n",
            "Epoch 28/50\n",
            "1118/1118 [==============================] - ETA: 0s - loss: 0.0444 - huber_loss: 0.1100Restoring model weights from the end of the best epoch: 20.\n",
            "1118/1118 [==============================] - 36s 32ms/step - loss: 0.0444 - huber_loss: 0.1100 - val_loss: 0.1049 - val_huber_loss: 0.2555\n",
            "Epoch 28: early stopping\n"
          ]
        }
      ]
    },
    {
      "cell_type": "code",
      "source": [
        "history_dicts = [history_simple.history, history_2Layers_simple.history, model_history_decay_3.history]\n",
        "\n",
        "# Define labels for each model\n",
        "model_labels = ['Model 1', 'Model 2', 'Model 3']\n",
        "\n",
        "# Create a new figure\n",
        "plt.figure(figsize=(10, 6))\n",
        "\n",
        "# Loop through each model's history\n",
        "for i, history_dict in enumerate(history_dicts):\n",
        "    error = history_dict['huber_loss']\n",
        "    val_error = history_dict['val_huber_loss']\n",
        "    loss = history_dict['loss']\n",
        "    val_loss = history_dict['val_loss']\n",
        "\n",
        "    epochs = range(1, len(error) + 1)\n",
        "\n",
        "    # Plot training loss with dots\n",
        "    plt.plot(epochs, loss, 'o-', label=f'{model_labels[i]} - Training loss')\n",
        "\n",
        "    # Plot validation loss with lines\n",
        "    plt.plot(epochs, val_loss, '-', label=f'{model_labels[i]} - Validation loss')\n",
        "\n",
        "plt.title('Training and validation loss for Multiple Models')\n",
        "plt.xlabel('Epochs')\n",
        "plt.ylabel('Loss')\n",
        "plt.legend()\n",
        "plt.grid(True)\n",
        "\n",
        "plt.show()"
      ],
      "metadata": {
        "id": "no7CmaVKcyfF",
        "colab": {
          "base_uri": "https://localhost:8080/",
          "height": 564
        },
        "outputId": "0338e9a1-15d9-4131-dd6b-bf4932f32ae5"
      },
      "execution_count": 12,
      "outputs": [
        {
          "output_type": "display_data",
          "data": {
            "text/plain": [
              "<Figure size 1000x600 with 1 Axes>"
            ],
            "image/png": "[encoded data removed]"
          },
          "metadata": {}
        }
      ]
    },
    {
      "cell_type": "markdown",
      "source": [
        "# Test 2 (add parameter decay and 0.4 dropout)\n",
        "\n"
      ],
      "metadata": {
        "id": "J1sM2U_nslfM"
      }
    },
    {
      "cell_type": "code",
      "source": [
        "## 2 layers 2 LSTM\n",
        " #num epochs without improvement\n",
        "\n",
        "model_simple = tf.keras.Sequential([\n",
        "  layers.Bidirectional(\n",
        "  layers.LSTM(8, input_shape = (window_length, 15), return_sequences=True, activation='tanh')),\n",
        "  layers.Dropout(0.2),\n",
        "  layers.Bidirectional(layers.LSTM(8,  return_sequences=True)),\n",
        "  layers.Dropout(0.2),\n",
        "  layers.LSTM(8,  return_sequences=False),\n",
        "  layers.Dropout(0.2),\n",
        "  layers.Dense(4, activation='linear')])\n",
        "\n",
        "model_simple.build((None, timesteps, 15))\n",
        "model_simple.summary()\n",
        "\n",
        "early_stopping = tf.keras.callbacks.EarlyStopping(monitor='val_loss', patience=patience, mode='min', verbose=True, restore_best_weights=True)\n",
        "\n",
        "\n",
        "model_simple.compile(loss=tf.keras.losses.Huber(delta = 0.3),\n",
        "                optimizer=tf.keras.optimizers.Adam(weight_decay= 1e-3, learning_rate = 0.005),\n",
        "                metrics=[tf.keras.losses.Huber(delta = 0.3)])\n",
        "history_simple = model_simple.fit(train_generator, epochs=epochs, validation_data= val_generator,  callbacks=[early_stopping], verbose=1)"
      ],
      "metadata": {
        "colab": {
          "base_uri": "https://localhost:8080/"
        },
        "id": "gvclCCK2surd",
        "outputId": "a31b2035-0791-4d30-8726-38cf0a22c290"
      },
      "execution_count": 11,
      "outputs": [
        {
          "output_type": "stream",
          "name": "stdout",
          "text": [
            "Model: \"sequential_6\"\n",
            "_________________________________________________________________\n",
            " Layer (type)                Output Shape              Param #   \n",
            "=================================================================\n",
            " bidirectional_12 (Bidirect  (None, 168, 16)           1536      \n",
            " ional)                                                          \n",
            "                                                                 \n",
            " dropout_18 (Dropout)        (None, 168, 16)           0         \n",
            "                                                                 \n",
            " bidirectional_13 (Bidirect  (None, 168, 16)           1600      \n",
            " ional)                                                          \n",
            "                                                                 \n",
            " dropout_19 (Dropout)        (None, 168, 16)           0         \n",
            "                                                                 \n",
            " lstm_20 (LSTM)              (None, 8)                 800       \n",
            "                                                                 \n",
            " dropout_20 (Dropout)        (None, 8)                 0         \n",
            "                                                                 \n",
            " dense_6 (Dense)             (None, 4)                 36        \n",
            "                                                                 \n",
            "=================================================================\n",
            "Total params: 3972 (15.52 KB)\n",
            "Trainable params: 3972 (15.52 KB)\n",
            "Non-trainable params: 0 (0.00 Byte)\n",
            "_________________________________________________________________\n",
            "Epoch 1/50\n",
            "1693/1693 [==============================] - 64s 32ms/step - loss: 0.0783 - huber_loss: 0.0783 - val_loss: 0.1633 - val_huber_loss: 0.1635\n",
            "Epoch 2/50\n",
            "1693/1693 [==============================] - 49s 29ms/step - loss: 0.0721 - huber_loss: 0.0721 - val_loss: 0.1575 - val_huber_loss: 0.1578\n",
            "Epoch 3/50\n",
            "1693/1693 [==============================] - 49s 29ms/step - loss: 0.0703 - huber_loss: 0.0703 - val_loss: 0.1645 - val_huber_loss: 0.1648\n",
            "Epoch 4/50\n",
            "1693/1693 [==============================] - 49s 29ms/step - loss: 0.0678 - huber_loss: 0.0678 - val_loss: 0.1461 - val_huber_loss: 0.1464\n",
            "Epoch 5/50\n",
            "1693/1693 [==============================] - 49s 29ms/step - loss: 0.0672 - huber_loss: 0.0672 - val_loss: 0.1623 - val_huber_loss: 0.1626\n",
            "Epoch 6/50\n",
            "1693/1693 [==============================] - 49s 29ms/step - loss: 0.0660 - huber_loss: 0.0660 - val_loss: 0.1587 - val_huber_loss: 0.1591\n",
            "Epoch 7/50\n",
            "1693/1693 [==============================] - 49s 29ms/step - loss: 0.0653 - huber_loss: 0.0653 - val_loss: 0.1630 - val_huber_loss: 0.1633\n",
            "Epoch 8/50\n",
            "1693/1693 [==============================] - 51s 30ms/step - loss: 0.0644 - huber_loss: 0.0644 - val_loss: 0.1627 - val_huber_loss: 0.1630\n",
            "Epoch 9/50\n",
            "1692/1693 [============================>.] - ETA: 0s - loss: 0.0634 - huber_loss: 0.0634Restoring model weights from the end of the best epoch: 4.\n",
            "1693/1693 [==============================] - 49s 29ms/step - loss: 0.0634 - huber_loss: 0.0634 - val_loss: 0.1853 - val_huber_loss: 0.1856\n",
            "Epoch 9: early stopping\n"
          ]
        }
      ]
    },
    {
      "cell_type": "code",
      "source": [
        "## 2 layers 1 Birectional 1 LSTM\n",
        "\n",
        "modelH03 = tf.keras.Sequential([\n",
        "  layers.Bidirectional(\n",
        "  layers.LSTM(8, input_shape = (window_length, 15), return_sequences=True, activation='tanh')),\n",
        "  layers.Dropout(0.4),\n",
        "  layers.Bidirectional(layers.LSTM(8,  return_sequences=True)),\n",
        "  layers.Dropout(0.4),\n",
        "  layers.LSTM(8,  return_sequences=False),\n",
        "  layers.Dropout(0.4),\n",
        "  layers.Dense(4, activation='linear')])\n",
        "\n",
        "modelH03.build((None, timesteps, 15))\n",
        "modelH03.summary()\n",
        "\n",
        "modelH03.compile(loss=tf.keras.losses.Huber(delta=0.3),\n",
        "                optimizer=tf.keras.optimizers.Adam(weight_decay= 1e-3),\n",
        "                metrics=[tf.keras.losses.Huber(delta = 0.3)])\n",
        "\n",
        "history_2Layers_simple = modelH03.fit(train_generator, epochs=epochs, validation_data= val_generator,  callbacks=[early_stopping], verbose=1)"
      ],
      "metadata": {
        "colab": {
          "base_uri": "https://localhost:8080/"
        },
        "id": "kIR8bb8TszVp",
        "outputId": "0c9b6a58-8b0e-4e14-db99-db430809a0db"
      },
      "execution_count": 6,
      "outputs": [
        {
          "output_type": "stream",
          "name": "stdout",
          "text": [
            "Model: \"sequential_3\"\n",
            "_________________________________________________________________\n",
            " Layer (type)                Output Shape              Param #   \n",
            "=================================================================\n",
            " bidirectional_6 (Bidirecti  (None, 168, 16)           1536      \n",
            " onal)                                                           \n",
            "                                                                 \n",
            " dropout_9 (Dropout)         (None, 168, 16)           0         \n",
            "                                                                 \n",
            " bidirectional_7 (Bidirecti  (None, 168, 16)           1600      \n",
            " onal)                                                           \n",
            "                                                                 \n",
            " dropout_10 (Dropout)        (None, 168, 16)           0         \n",
            "                                                                 \n",
            " lstm_11 (LSTM)              (None, 8)                 800       \n",
            "                                                                 \n",
            " dropout_11 (Dropout)        (None, 8)                 0         \n",
            "                                                                 \n",
            " dense_3 (Dense)             (None, 4)                 36        \n",
            "                                                                 \n",
            "=================================================================\n",
            "Total params: 3972 (15.52 KB)\n",
            "Trainable params: 3972 (15.52 KB)\n",
            "Non-trainable params: 0 (0.00 Byte)\n",
            "_________________________________________________________________\n",
            "Epoch 1/50\n",
            "1693/1693 [==============================] - 62s 31ms/step - loss: 0.0847 - huber_loss: 0.0847 - val_loss: 0.1712 - val_huber_loss: 0.1715\n",
            "Epoch 2/50\n",
            "1693/1693 [==============================] - 51s 30ms/step - loss: 0.0746 - huber_loss: 0.0746 - val_loss: 0.1697 - val_huber_loss: 0.1700\n",
            "Epoch 3/50\n",
            "1693/1693 [==============================] - 51s 30ms/step - loss: 0.0718 - huber_loss: 0.0718 - val_loss: 0.1612 - val_huber_loss: 0.1615\n",
            "Epoch 4/50\n",
            "1693/1693 [==============================] - 51s 30ms/step - loss: 0.0701 - huber_loss: 0.0701 - val_loss: 0.1838 - val_huber_loss: 0.1841\n",
            "Epoch 5/50\n",
            "1693/1693 [==============================] - 52s 30ms/step - loss: 0.0698 - huber_loss: 0.0698 - val_loss: 0.1672 - val_huber_loss: 0.1674\n",
            "Epoch 6/50\n",
            "1693/1693 [==============================] - 51s 30ms/step - loss: 0.0686 - huber_loss: 0.0686 - val_loss: 0.1632 - val_huber_loss: 0.1635\n",
            "Epoch 7/50\n",
            "1693/1693 [==============================] - 51s 30ms/step - loss: 0.0679 - huber_loss: 0.0679 - val_loss: 0.1573 - val_huber_loss: 0.1576\n",
            "Epoch 8/50\n",
            "1693/1693 [==============================] - 51s 30ms/step - loss: 0.0672 - huber_loss: 0.0672 - val_loss: 0.1620 - val_huber_loss: 0.1623\n",
            "Epoch 9/50\n",
            "1693/1693 [==============================] - 52s 31ms/step - loss: 0.0669 - huber_loss: 0.0669 - val_loss: 0.1593 - val_huber_loss: 0.1596\n",
            "Epoch 10/50\n",
            "1693/1693 [==============================] - 50s 29ms/step - loss: 0.0664 - huber_loss: 0.0664 - val_loss: 0.1591 - val_huber_loss: 0.1593\n",
            "Epoch 11/50\n",
            "1693/1693 [==============================] - 50s 29ms/step - loss: 0.0659 - huber_loss: 0.0659 - val_loss: 0.1467 - val_huber_loss: 0.1469\n",
            "Epoch 12/50\n",
            "1693/1693 [==============================] - 50s 29ms/step - loss: 0.0655 - huber_loss: 0.0655 - val_loss: 0.1553 - val_huber_loss: 0.1556\n",
            "Epoch 13/50\n",
            "1693/1693 [==============================] - 50s 30ms/step - loss: 0.0648 - huber_loss: 0.0648 - val_loss: 0.1567 - val_huber_loss: 0.1569\n",
            "Epoch 14/50\n",
            "1693/1693 [==============================] - 53s 31ms/step - loss: 0.0647 - huber_loss: 0.0647 - val_loss: 0.1478 - val_huber_loss: 0.1480\n",
            "Epoch 15/50\n",
            "1693/1693 [==============================] - 51s 30ms/step - loss: 0.0645 - huber_loss: 0.0645 - val_loss: 0.1541 - val_huber_loss: 0.1544\n",
            "Epoch 16/50\n",
            "1692/1693 [============================>.] - ETA: 0s - loss: 0.0644 - huber_loss: 0.0644Restoring model weights from the end of the best epoch: 11.\n",
            "1693/1693 [==============================] - 52s 31ms/step - loss: 0.0644 - huber_loss: 0.0644 - val_loss: 0.1545 - val_huber_loss: 0.1547\n",
            "Epoch 16: early stopping\n"
          ]
        }
      ]
    },
    {
      "cell_type": "code",
      "source": [
        "## 3 layers 2 Bidirectional 1 LSTM ## BEST MODEL\n",
        "model_decay_3 = tf.keras.Sequential([\n",
        "  layers.Bidirectional(\n",
        "  layers.LSTM(8, input_shape = (window_length, 15), return_sequences=True, activation='tanh')),\n",
        "  layers.Dropout(0.2),\n",
        "  layers.Bidirectional(layers.LSTM(8,  return_sequences=True)),\n",
        "  layers.Dropout(0.2),\n",
        "  layers.LSTM(8,  return_sequences=False),\n",
        "  layers.Dropout(0.2),\n",
        "  layers.Dense(4, activation='linear')])\n",
        "\n",
        "model_decay_3.build((None, timesteps, 15))\n",
        "model_decay_3.summary()\n",
        "\n",
        "model_decay_3.compile(loss=tf.keras.losses.Huber(delta=0.3),\n",
        "                optimizer=tf.keras.optimizers.Adam(),\n",
        "                metrics=[tf.keras.losses.Huber(delta = 0.3),'mean_absolute_error'])\n",
        "model_history_decay_3 = model_decay_3.fit(train_generator, epochs=epochs, validation_data= val_generator,  callbacks=[early_stopping], verbose=1)"
      ],
      "metadata": {
        "colab": {
          "base_uri": "https://localhost:8080/"
        },
        "id": "iBgZXPhVs6Hg",
        "outputId": "1c70feaf-cdd7-484b-c2db-1ee7a14f668e"
      },
      "execution_count": 25,
      "outputs": [
        {
          "output_type": "stream",
          "name": "stdout",
          "text": [
            "Model: \"sequential_9\"\n",
            "_________________________________________________________________\n",
            " Layer (type)                Output Shape              Param #   \n",
            "=================================================================\n",
            " bidirectional_18 (Bidirect  (None, 168, 16)           1536      \n",
            " ional)                                                          \n",
            "                                                                 \n",
            " dropout_27 (Dropout)        (None, 168, 16)           0         \n",
            "                                                                 \n",
            " bidirectional_19 (Bidirect  (None, 168, 16)           1600      \n",
            " ional)                                                          \n",
            "                                                                 \n",
            " dropout_28 (Dropout)        (None, 168, 16)           0         \n",
            "                                                                 \n",
            " lstm_29 (LSTM)              (None, 8)                 800       \n",
            "                                                                 \n",
            " dropout_29 (Dropout)        (None, 8)                 0         \n",
            "                                                                 \n",
            " dense_9 (Dense)             (None, 4)                 36        \n",
            "                                                                 \n",
            "=================================================================\n",
            "Total params: 3972 (15.52 KB)\n",
            "Trainable params: 3972 (15.52 KB)\n",
            "Non-trainable params: 0 (0.00 Byte)\n",
            "_________________________________________________________________\n",
            "Epoch 1/50\n",
            "1693/1693 [==============================] - 62s 31ms/step - loss: 0.0807 - huber_loss: 0.0807 - mean_absolute_error: 0.3445 - val_loss: 0.1590 - val_huber_loss: 0.1593 - val_mean_absolute_error: 0.5974\n",
            "Epoch 2/50\n",
            "1693/1693 [==============================] - 50s 29ms/step - loss: 0.0717 - huber_loss: 0.0717 - mean_absolute_error: 0.2989 - val_loss: 0.1715 - val_huber_loss: 0.1718 - val_mean_absolute_error: 0.6367\n",
            "Epoch 3/50\n",
            "1693/1693 [==============================] - 50s 30ms/step - loss: 0.0692 - huber_loss: 0.0692 - mean_absolute_error: 0.2879 - val_loss: 0.1559 - val_huber_loss: 0.1562 - val_mean_absolute_error: 0.5910\n",
            "Epoch 4/50\n",
            "1693/1693 [==============================] - 50s 29ms/step - loss: 0.0677 - huber_loss: 0.0677 - mean_absolute_error: 0.2821 - val_loss: 0.1665 - val_huber_loss: 0.1667 - val_mean_absolute_error: 0.6212\n",
            "Epoch 5/50\n",
            "1693/1693 [==============================] - 49s 29ms/step - loss: 0.0673 - huber_loss: 0.0673 - mean_absolute_error: 0.2800 - val_loss: 0.1654 - val_huber_loss: 0.1657 - val_mean_absolute_error: 0.6170\n",
            "Epoch 6/50\n",
            "1693/1693 [==============================] - 50s 29ms/step - loss: 0.0657 - huber_loss: 0.0657 - mean_absolute_error: 0.2746 - val_loss: 0.1614 - val_huber_loss: 0.1617 - val_mean_absolute_error: 0.6085\n",
            "Epoch 7/50\n",
            "1693/1693 [==============================] - 49s 29ms/step - loss: 0.0648 - huber_loss: 0.0648 - mean_absolute_error: 0.2717 - val_loss: 0.1706 - val_huber_loss: 0.1709 - val_mean_absolute_error: 0.6329\n",
            "Epoch 8/50\n",
            "1693/1693 [==============================] - ETA: 0s - loss: 0.0638 - huber_loss: 0.0638 - mean_absolute_error: 0.2680Restoring model weights from the end of the best epoch: 3.\n",
            "1693/1693 [==============================] - 50s 30ms/step - loss: 0.0638 - huber_loss: 0.0638 - mean_absolute_error: 0.2680 - val_loss: 0.1645 - val_huber_loss: 0.1647 - val_mean_absolute_error: 0.6123\n",
            "Epoch 8: early stopping\n"
          ]
        }
      ]
    },
    {
      "cell_type": "markdown",
      "source": [
        "Through multiple testing found, 2 Bidirectional layers with an added LSTM layer is the best performing, has the lowest validation loss for test 4 and test 5 of 0.0976 and 0.0958 respectively"
      ],
      "metadata": {
        "id": "b3TgkBalDKt0"
      }
    },
    {
      "cell_type": "code",
      "source": [
        "predictions = model_decay_3.evaluate(test_generator, batch_size=16)\n",
        "predictions\n"
      ],
      "metadata": {
        "colab": {
          "base_uri": "https://localhost:8080/"
        },
        "id": "ROFjw6X6tG8v",
        "outputId": "0681b2c5-6455-485b-cc72-1a0e074af603"
      },
      "execution_count": 27,
      "outputs": [
        {
          "output_type": "stream",
          "name": "stdout",
          "text": [
            "200/200 [==============================] - 3s 17ms/step - loss: 0.3420 - huber_loss: 0.3423 - mean_absolute_error: 1.2273\n"
          ]
        },
        {
          "output_type": "execute_result",
          "data": {
            "text/plain": [
              "[0.34198155999183655, 0.34233757853507996, 1.2272858619689941]"
            ]
          },
          "metadata": {},
          "execution_count": 27
        }
      ]
    },
    {
      "cell_type": "code",
      "source": [
        "model_decay_3.save(\"/final_model.keras\")"
      ],
      "metadata": {
        "id": "HjvEMJpyZgxo"
      },
      "execution_count": 32,
      "outputs": []
    }
  ]
}